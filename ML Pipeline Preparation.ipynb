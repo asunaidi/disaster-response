{
 "cells": [
  {
   "cell_type": "markdown",
   "metadata": {},
   "source": [
    "# ML Pipeline Preparation\n",
    "Follow the instructions below to help you create your ML pipeline.\n",
    "### 1. Import libraries and load data from database.\n",
    "- Import Python libraries\n",
    "- Load dataset from database with [`read_sql_table`](https://pandas.pydata.org/pandas-docs/stable/generated/pandas.read_sql_table.html)\n",
    "- Define feature and target variables X and Y"
   ]
  },
  {
   "cell_type": "code",
   "execution_count": 13,
   "metadata": {},
   "outputs": [
    {
     "name": "stdout",
     "output_type": "stream",
     "text": [
      "[nltk_data] Downloading package punkt to /root/nltk_data...\n",
      "[nltk_data]   Package punkt is already up-to-date!\n",
      "[nltk_data] Downloading package stopwords to /root/nltk_data...\n",
      "[nltk_data]   Package stopwords is already up-to-date!\n",
      "[nltk_data] Downloading package wordnet to /root/nltk_data...\n",
      "[nltk_data]   Package wordnet is already up-to-date!\n"
     ]
    },
    {
     "data": {
      "text/plain": [
       "True"
      ]
     },
     "execution_count": 13,
     "metadata": {},
     "output_type": "execute_result"
    }
   ],
   "source": [
    "# import libraries\n",
    "import numpy as np\n",
    "import pandas as pd\n",
    "from sqlalchemy import create_engine\n",
    "import re\n",
    "import nltk\n",
    "from nltk.corpus import stopwords\n",
    "from nltk.stem.wordnet import WordNetLemmatizer\n",
    "from nltk.tokenize import word_tokenize\n",
    "from sklearn.pipeline import Pipeline\n",
    "from sklearn.feature_extraction.text import TfidfTransformer, CountVectorizer\n",
    "from sklearn.multioutput import MultiOutputClassifier\n",
    "from sklearn.ensemble import RandomForestClassifier\n",
    "from sklearn.model_selection import train_test_split\n",
    "from sklearn.metrics import classification_report\n",
    "from sklearn.metrics import f1_score, make_scorer\n",
    "from sklearn.model_selection import GridSearchCV\n",
    "import pickle\n",
    "\n",
    "nltk.download('punkt')\n",
    "nltk.download('stopwords')\n",
    "nltk.download('wordnet')"
   ]
  },
  {
   "cell_type": "code",
   "execution_count": 2,
   "metadata": {},
   "outputs": [
    {
     "data": {
      "text/html": [
       "<div>\n",
       "<style scoped>\n",
       "    .dataframe tbody tr th:only-of-type {\n",
       "        vertical-align: middle;\n",
       "    }\n",
       "\n",
       "    .dataframe tbody tr th {\n",
       "        vertical-align: top;\n",
       "    }\n",
       "\n",
       "    .dataframe thead th {\n",
       "        text-align: right;\n",
       "    }\n",
       "</style>\n",
       "<table border=\"1\" class=\"dataframe\">\n",
       "  <thead>\n",
       "    <tr style=\"text-align: right;\">\n",
       "      <th></th>\n",
       "      <th>id</th>\n",
       "      <th>message</th>\n",
       "      <th>original</th>\n",
       "      <th>genre</th>\n",
       "      <th>related</th>\n",
       "      <th>request</th>\n",
       "      <th>offer</th>\n",
       "      <th>aid_related</th>\n",
       "      <th>medical_help</th>\n",
       "      <th>medical_products</th>\n",
       "      <th>...</th>\n",
       "      <th>aid_centers</th>\n",
       "      <th>other_infrastructure</th>\n",
       "      <th>weather_related</th>\n",
       "      <th>floods</th>\n",
       "      <th>storm</th>\n",
       "      <th>fire</th>\n",
       "      <th>earthquake</th>\n",
       "      <th>cold</th>\n",
       "      <th>other_weather</th>\n",
       "      <th>direct_report</th>\n",
       "    </tr>\n",
       "  </thead>\n",
       "  <tbody>\n",
       "    <tr>\n",
       "      <th>0</th>\n",
       "      <td>2</td>\n",
       "      <td>Weather update - a cold front from Cuba that c...</td>\n",
       "      <td>Un front froid se retrouve sur Cuba ce matin. ...</td>\n",
       "      <td>direct</td>\n",
       "      <td>1</td>\n",
       "      <td>0</td>\n",
       "      <td>0</td>\n",
       "      <td>0</td>\n",
       "      <td>0</td>\n",
       "      <td>0</td>\n",
       "      <td>...</td>\n",
       "      <td>0</td>\n",
       "      <td>0</td>\n",
       "      <td>0</td>\n",
       "      <td>0</td>\n",
       "      <td>0</td>\n",
       "      <td>0</td>\n",
       "      <td>0</td>\n",
       "      <td>0</td>\n",
       "      <td>0</td>\n",
       "      <td>0</td>\n",
       "    </tr>\n",
       "    <tr>\n",
       "      <th>1</th>\n",
       "      <td>7</td>\n",
       "      <td>Is the Hurricane over or is it not over</td>\n",
       "      <td>Cyclone nan fini osinon li pa fini</td>\n",
       "      <td>direct</td>\n",
       "      <td>1</td>\n",
       "      <td>0</td>\n",
       "      <td>0</td>\n",
       "      <td>1</td>\n",
       "      <td>0</td>\n",
       "      <td>0</td>\n",
       "      <td>...</td>\n",
       "      <td>0</td>\n",
       "      <td>0</td>\n",
       "      <td>1</td>\n",
       "      <td>0</td>\n",
       "      <td>1</td>\n",
       "      <td>0</td>\n",
       "      <td>0</td>\n",
       "      <td>0</td>\n",
       "      <td>0</td>\n",
       "      <td>0</td>\n",
       "    </tr>\n",
       "    <tr>\n",
       "      <th>2</th>\n",
       "      <td>8</td>\n",
       "      <td>Looking for someone but no name</td>\n",
       "      <td>Patnm, di Maryani relem pou li banm nouvel li ...</td>\n",
       "      <td>direct</td>\n",
       "      <td>1</td>\n",
       "      <td>0</td>\n",
       "      <td>0</td>\n",
       "      <td>0</td>\n",
       "      <td>0</td>\n",
       "      <td>0</td>\n",
       "      <td>...</td>\n",
       "      <td>0</td>\n",
       "      <td>0</td>\n",
       "      <td>0</td>\n",
       "      <td>0</td>\n",
       "      <td>0</td>\n",
       "      <td>0</td>\n",
       "      <td>0</td>\n",
       "      <td>0</td>\n",
       "      <td>0</td>\n",
       "      <td>0</td>\n",
       "    </tr>\n",
       "    <tr>\n",
       "      <th>3</th>\n",
       "      <td>9</td>\n",
       "      <td>UN reports Leogane 80-90 destroyed. Only Hospi...</td>\n",
       "      <td>UN reports Leogane 80-90 destroyed. Only Hospi...</td>\n",
       "      <td>direct</td>\n",
       "      <td>1</td>\n",
       "      <td>1</td>\n",
       "      <td>0</td>\n",
       "      <td>1</td>\n",
       "      <td>0</td>\n",
       "      <td>1</td>\n",
       "      <td>...</td>\n",
       "      <td>0</td>\n",
       "      <td>0</td>\n",
       "      <td>0</td>\n",
       "      <td>0</td>\n",
       "      <td>0</td>\n",
       "      <td>0</td>\n",
       "      <td>0</td>\n",
       "      <td>0</td>\n",
       "      <td>0</td>\n",
       "      <td>0</td>\n",
       "    </tr>\n",
       "    <tr>\n",
       "      <th>4</th>\n",
       "      <td>12</td>\n",
       "      <td>says: west side of Haiti, rest of the country ...</td>\n",
       "      <td>facade ouest d Haiti et le reste du pays aujou...</td>\n",
       "      <td>direct</td>\n",
       "      <td>1</td>\n",
       "      <td>0</td>\n",
       "      <td>0</td>\n",
       "      <td>0</td>\n",
       "      <td>0</td>\n",
       "      <td>0</td>\n",
       "      <td>...</td>\n",
       "      <td>0</td>\n",
       "      <td>0</td>\n",
       "      <td>0</td>\n",
       "      <td>0</td>\n",
       "      <td>0</td>\n",
       "      <td>0</td>\n",
       "      <td>0</td>\n",
       "      <td>0</td>\n",
       "      <td>0</td>\n",
       "      <td>0</td>\n",
       "    </tr>\n",
       "  </tbody>\n",
       "</table>\n",
       "<p>5 rows × 39 columns</p>\n",
       "</div>"
      ],
      "text/plain": [
       "   id                                            message  \\\n",
       "0   2  Weather update - a cold front from Cuba that c...   \n",
       "1   7            Is the Hurricane over or is it not over   \n",
       "2   8                    Looking for someone but no name   \n",
       "3   9  UN reports Leogane 80-90 destroyed. Only Hospi...   \n",
       "4  12  says: west side of Haiti, rest of the country ...   \n",
       "\n",
       "                                            original   genre  related  \\\n",
       "0  Un front froid se retrouve sur Cuba ce matin. ...  direct        1   \n",
       "1                 Cyclone nan fini osinon li pa fini  direct        1   \n",
       "2  Patnm, di Maryani relem pou li banm nouvel li ...  direct        1   \n",
       "3  UN reports Leogane 80-90 destroyed. Only Hospi...  direct        1   \n",
       "4  facade ouest d Haiti et le reste du pays aujou...  direct        1   \n",
       "\n",
       "   request  offer  aid_related  medical_help  medical_products      ...        \\\n",
       "0        0      0            0             0                 0      ...         \n",
       "1        0      0            1             0                 0      ...         \n",
       "2        0      0            0             0                 0      ...         \n",
       "3        1      0            1             0                 1      ...         \n",
       "4        0      0            0             0                 0      ...         \n",
       "\n",
       "   aid_centers  other_infrastructure  weather_related  floods  storm  fire  \\\n",
       "0            0                     0                0       0      0     0   \n",
       "1            0                     0                1       0      1     0   \n",
       "2            0                     0                0       0      0     0   \n",
       "3            0                     0                0       0      0     0   \n",
       "4            0                     0                0       0      0     0   \n",
       "\n",
       "   earthquake  cold  other_weather  direct_report  \n",
       "0           0     0              0              0  \n",
       "1           0     0              0              0  \n",
       "2           0     0              0              0  \n",
       "3           0     0              0              0  \n",
       "4           0     0              0              0  \n",
       "\n",
       "[5 rows x 39 columns]"
      ]
     },
     "metadata": {},
     "output_type": "display_data"
    }
   ],
   "source": [
    "# load data from database\n",
    "engine = create_engine('sqlite:///DisasterResponse.db')\n",
    "df = pd.read_sql(\"SELECT * FROM DisasterResponse\", engine)\n",
    "display(df.head())\n",
    "X = df['message']\n",
    "Y = df.drop(['id', 'message', 'original', 'genre'], axis = 1)"
   ]
  },
  {
   "cell_type": "markdown",
   "metadata": {},
   "source": [
    "### 2. Write a tokenization function to process your text data"
   ]
  },
  {
   "cell_type": "code",
   "execution_count": 3,
   "metadata": {},
   "outputs": [],
   "source": [
    "def tokenize(text):\n",
    "    # normalize case and remove punctuation\n",
    "    text = re.sub(r\"[^a-zA-Z0-9]\", \" \", text.lower())\n",
    "    \n",
    "    # tokenize text\n",
    "    tokens = word_tokenize(text)\n",
    "    \n",
    "    stop_words = stopwords.words(\"english\")\n",
    "    lemmatizer = WordNetLemmatizer()\n",
    "    \n",
    "    # lemmatize andremove stop words\n",
    "    tokens = [lemmatizer.lemmatize(word) for word in tokens if word not in stop_words]\n",
    "\n",
    "    return tokens"
   ]
  },
  {
   "cell_type": "markdown",
   "metadata": {},
   "source": [
    "### 3. Build a machine learning pipeline\n",
    "This machine pipeline should take in the `message` column as input and output classification results on the other 36 categories in the dataset. You may find the [MultiOutputClassifier](http://scikit-learn.org/stable/modules/generated/sklearn.multioutput.MultiOutputClassifier.html) helpful for predicting multiple target variables."
   ]
  },
  {
   "cell_type": "code",
   "execution_count": 4,
   "metadata": {},
   "outputs": [],
   "source": [
    "pipeline = Pipeline([\n",
    "    ('vect', CountVectorizer(tokenizer = tokenize)),\n",
    "    ('tfidf', TfidfTransformer()),\n",
    "    ('clf', MultiOutputClassifier(RandomForestClassifier()))\n",
    "])"
   ]
  },
  {
   "cell_type": "markdown",
   "metadata": {},
   "source": [
    "### 4. Train pipeline\n",
    "- Split data into train and test sets\n",
    "- Train pipeline"
   ]
  },
  {
   "cell_type": "code",
   "execution_count": 5,
   "metadata": {},
   "outputs": [
    {
     "data": {
      "text/plain": [
       "Pipeline(memory=None,\n",
       "     steps=[('vect', CountVectorizer(analyzer='word', binary=False, decode_error='strict',\n",
       "        dtype=<class 'numpy.int64'>, encoding='utf-8', input='content',\n",
       "        lowercase=True, max_df=1.0, max_features=None, min_df=1,\n",
       "        ngram_range=(1, 1), preprocessor=None, stop_words=None,\n",
       "        strip...oob_score=False, random_state=None, verbose=0,\n",
       "            warm_start=False),\n",
       "           n_jobs=1))])"
      ]
     },
     "execution_count": 5,
     "metadata": {},
     "output_type": "execute_result"
    }
   ],
   "source": [
    "X_train, X_test, Y_train, Y_test = train_test_split(X, Y)\n",
    "pipeline.fit(X_train, Y_train)"
   ]
  },
  {
   "cell_type": "markdown",
   "metadata": {},
   "source": [
    "### 5. Test your model\n",
    "Report the f1 score, precision and recall for each output category of the dataset. You can do this by iterating through the columns and calling sklearn's `classification_report` on each."
   ]
  },
  {
   "cell_type": "code",
   "execution_count": 6,
   "metadata": {},
   "outputs": [
    {
     "name": "stdout",
     "output_type": "stream",
     "text": [
      "                        precision    recall  f1-score   support\n",
      "\n",
      "               related       0.85      0.92      0.88      4963\n",
      "               request       0.76      0.43      0.55      1092\n",
      "                 offer       0.00      0.00      0.00        27\n",
      "           aid_related       0.73      0.62      0.67      2724\n",
      "          medical_help       0.64      0.10      0.17       564\n",
      "      medical_products       0.69      0.10      0.17       344\n",
      "     search_and_rescue       0.56      0.03      0.05       185\n",
      "              security       0.00      0.00      0.00       127\n",
      "              military       0.58      0.08      0.15       229\n",
      "                 water       0.86      0.32      0.47       411\n",
      "                  food       0.83      0.54      0.66       734\n",
      "               shelter       0.81      0.38      0.51       554\n",
      "              clothing       0.73      0.08      0.15        97\n",
      "                 money       0.73      0.05      0.10       148\n",
      "        missing_people       0.00      0.00      0.00        84\n",
      "              refugees       0.58      0.03      0.06       213\n",
      "                 death       0.69      0.19      0.30       296\n",
      "             other_aid       0.61      0.07      0.13       850\n",
      "infrastructure_related       0.29      0.01      0.02       400\n",
      "             transport       0.75      0.12      0.20       327\n",
      "             buildings       0.70      0.10      0.18       321\n",
      "           electricity       0.71      0.04      0.07       133\n",
      "                 tools       0.00      0.00      0.00        43\n",
      "             hospitals       0.00      0.00      0.00        61\n",
      "                 shops       0.00      0.00      0.00        28\n",
      "           aid_centers       0.00      0.00      0.00        64\n",
      "  other_infrastructure       0.17      0.00      0.01       284\n",
      "       weather_related       0.83      0.58      0.68      1848\n",
      "                floods       0.85      0.41      0.55       560\n",
      "                 storm       0.73      0.35      0.47       609\n",
      "                  fire       0.67      0.03      0.06        63\n",
      "            earthquake       0.89      0.73      0.80       618\n",
      "                  cold       0.55      0.14      0.22       115\n",
      "         other_weather       0.50      0.05      0.09       362\n",
      "         direct_report       0.78      0.33      0.46      1264\n",
      "\n",
      "           avg / total       0.74      0.49      0.55     20742\n",
      "\n"
     ]
    },
    {
     "name": "stderr",
     "output_type": "stream",
     "text": [
      "/opt/conda/lib/python3.6/site-packages/sklearn/metrics/classification.py:1135: UndefinedMetricWarning: Precision and F-score are ill-defined and being set to 0.0 in labels with no predicted samples.\n",
      "  'precision', 'predicted', average, warn_for)\n"
     ]
    }
   ],
   "source": [
    "Y_pred = pipeline.predict(X_test)\n",
    "print(classification_report(Y_test.values, Y_pred, target_names=Y.columns.values))"
   ]
  },
  {
   "cell_type": "markdown",
   "metadata": {},
   "source": [
    "the f-score for most of message categories above are very low and the that might occured because of the unequal number of messages associated with each category as seen in the support column."
   ]
  },
  {
   "cell_type": "markdown",
   "metadata": {},
   "source": [
    "### 6. Improve your model\n",
    "Use grid search to find better parameters. "
   ]
  },
  {
   "cell_type": "code",
   "execution_count": 7,
   "metadata": {
    "scrolled": true
   },
   "outputs": [
    {
     "name": "stdout",
     "output_type": "stream",
     "text": [
      "Fitting 3 folds for each of 24 candidates, totalling 72 fits\n",
      "[CV] clf__estimator__max_depth=10, clf__estimator__min_samples_leaf=1, clf__estimator__min_samples_split=2, clf__estimator__n_estimators=50 \n",
      "[CV] clf__estimator__max_depth=10, clf__estimator__min_samples_leaf=1, clf__estimator__min_samples_split=2, clf__estimator__n_estimators=50 \n",
      "[CV] clf__estimator__max_depth=10, clf__estimator__min_samples_leaf=1, clf__estimator__min_samples_split=2, clf__estimator__n_estimators=50 \n",
      "[CV] clf__estimator__max_depth=10, clf__estimator__min_samples_leaf=1, clf__estimator__min_samples_split=2, clf__estimator__n_estimators=100 \n",
      "[CV] clf__estimator__max_depth=10, clf__estimator__min_samples_leaf=1, clf__estimator__min_samples_split=2, clf__estimator__n_estimators=100 \n",
      "[CV]  clf__estimator__max_depth=10, clf__estimator__min_samples_leaf=1, clf__estimator__min_samples_split=2, clf__estimator__n_estimators=50, score=0.3806766781255654, total=  53.2s\n",
      "[CV] clf__estimator__max_depth=10, clf__estimator__min_samples_leaf=1, clf__estimator__min_samples_split=2, clf__estimator__n_estimators=100 \n",
      "[CV]  clf__estimator__max_depth=10, clf__estimator__min_samples_leaf=1, clf__estimator__min_samples_split=2, clf__estimator__n_estimators=50, score=0.38669888556280874, total=  53.1s\n",
      "[CV] clf__estimator__max_depth=10, clf__estimator__min_samples_leaf=1, clf__estimator__min_samples_split=4, clf__estimator__n_estimators=50 \n",
      "[CV]  clf__estimator__max_depth=10, clf__estimator__min_samples_leaf=1, clf__estimator__min_samples_split=2, clf__estimator__n_estimators=50, score=0.38392400438436247, total=  54.6s\n",
      "[CV] clf__estimator__max_depth=10, clf__estimator__min_samples_leaf=1, clf__estimator__min_samples_split=4, clf__estimator__n_estimators=50 \n",
      "[CV]  clf__estimator__max_depth=10, clf__estimator__min_samples_leaf=1, clf__estimator__min_samples_split=2, clf__estimator__n_estimators=100, score=0.38757428811025635, total= 1.3min\n",
      "[CV] clf__estimator__max_depth=10, clf__estimator__min_samples_leaf=1, clf__estimator__min_samples_split=4, clf__estimator__n_estimators=50 \n",
      "[CV]  clf__estimator__max_depth=10, clf__estimator__min_samples_leaf=1, clf__estimator__min_samples_split=2, clf__estimator__n_estimators=100, score=0.38361804326627896, total= 1.3min\n",
      "[CV] clf__estimator__max_depth=10, clf__estimator__min_samples_leaf=1, clf__estimator__min_samples_split=4, clf__estimator__n_estimators=100 \n",
      "[CV]  clf__estimator__max_depth=10, clf__estimator__min_samples_leaf=1, clf__estimator__min_samples_split=4, clf__estimator__n_estimators=50, score=0.38721201516477105, total=  54.5s\n",
      "[CV] clf__estimator__max_depth=10, clf__estimator__min_samples_leaf=1, clf__estimator__min_samples_split=4, clf__estimator__n_estimators=100 \n",
      "[CV]  clf__estimator__max_depth=10, clf__estimator__min_samples_leaf=1, clf__estimator__min_samples_split=4, clf__estimator__n_estimators=50, score=0.3798421548041416, total=  52.9s\n",
      "[CV] clf__estimator__max_depth=10, clf__estimator__min_samples_leaf=1, clf__estimator__min_samples_split=4, clf__estimator__n_estimators=100 \n",
      "[CV]  clf__estimator__max_depth=10, clf__estimator__min_samples_leaf=1, clf__estimator__min_samples_split=4, clf__estimator__n_estimators=50, score=0.3801036119262399, total=  51.7s\n",
      "[CV] clf__estimator__max_depth=10, clf__estimator__min_samples_leaf=2, clf__estimator__min_samples_split=2, clf__estimator__n_estimators=50 \n"
     ]
    },
    {
     "name": "stderr",
     "output_type": "stream",
     "text": [
      "[Parallel(n_jobs=5)]: Done   8 tasks      | elapsed:  3.1min\n"
     ]
    },
    {
     "name": "stdout",
     "output_type": "stream",
     "text": [
      "[CV]  clf__estimator__max_depth=10, clf__estimator__min_samples_leaf=1, clf__estimator__min_samples_split=2, clf__estimator__n_estimators=100, score=0.3724097745729998, total= 1.3min\n",
      "[CV] clf__estimator__max_depth=10, clf__estimator__min_samples_leaf=2, clf__estimator__min_samples_split=2, clf__estimator__n_estimators=50 \n",
      "[CV]  clf__estimator__max_depth=10, clf__estimator__min_samples_leaf=1, clf__estimator__min_samples_split=4, clf__estimator__n_estimators=100, score=0.38684507966602255, total= 1.3min\n",
      "[CV] clf__estimator__max_depth=10, clf__estimator__min_samples_leaf=2, clf__estimator__min_samples_split=2, clf__estimator__n_estimators=50 \n",
      "[CV]  clf__estimator__max_depth=10, clf__estimator__min_samples_leaf=2, clf__estimator__min_samples_split=2, clf__estimator__n_estimators=50, score=0.3877670044470366, total=  51.4s\n",
      "[CV] clf__estimator__max_depth=10, clf__estimator__min_samples_leaf=2, clf__estimator__min_samples_split=2, clf__estimator__n_estimators=100 \n",
      "[CV]  clf__estimator__max_depth=10, clf__estimator__min_samples_leaf=2, clf__estimator__min_samples_split=2, clf__estimator__n_estimators=50, score=0.3768589046064563, total=  53.8s\n",
      "[CV] clf__estimator__max_depth=10, clf__estimator__min_samples_leaf=2, clf__estimator__min_samples_split=2, clf__estimator__n_estimators=100 \n",
      "[CV]  clf__estimator__max_depth=10, clf__estimator__min_samples_leaf=1, clf__estimator__min_samples_split=4, clf__estimator__n_estimators=100, score=0.38444877626164176, total= 1.3min\n",
      "[CV] clf__estimator__max_depth=10, clf__estimator__min_samples_leaf=2, clf__estimator__min_samples_split=2, clf__estimator__n_estimators=100 \n",
      "[CV]  clf__estimator__max_depth=10, clf__estimator__min_samples_leaf=1, clf__estimator__min_samples_split=4, clf__estimator__n_estimators=100, score=0.37565406976744187, total= 1.2min\n",
      "[CV] clf__estimator__max_depth=10, clf__estimator__min_samples_leaf=2, clf__estimator__min_samples_split=4, clf__estimator__n_estimators=50 \n",
      "[CV]  clf__estimator__max_depth=10, clf__estimator__min_samples_leaf=2, clf__estimator__min_samples_split=2, clf__estimator__n_estimators=50, score=0.3772461611064725, total=  53.3s\n",
      "[CV] clf__estimator__max_depth=10, clf__estimator__min_samples_leaf=2, clf__estimator__min_samples_split=4, clf__estimator__n_estimators=50 \n",
      "[CV]  clf__estimator__max_depth=10, clf__estimator__min_samples_leaf=2, clf__estimator__min_samples_split=4, clf__estimator__n_estimators=50, score=0.38485136220875027, total=  52.5s\n",
      "[CV] clf__estimator__max_depth=10, clf__estimator__min_samples_leaf=2, clf__estimator__min_samples_split=4, clf__estimator__n_estimators=50 \n",
      "[CV]  clf__estimator__max_depth=10, clf__estimator__min_samples_leaf=2, clf__estimator__min_samples_split=2, clf__estimator__n_estimators=100, score=0.38524739821069925, total= 1.3min\n",
      "[CV] clf__estimator__max_depth=10, clf__estimator__min_samples_leaf=2, clf__estimator__min_samples_split=4, clf__estimator__n_estimators=100 \n",
      "[CV]  clf__estimator__max_depth=10, clf__estimator__min_samples_leaf=2, clf__estimator__min_samples_split=2, clf__estimator__n_estimators=100, score=0.37847436129733647, total= 1.2min\n",
      "[CV] clf__estimator__max_depth=10, clf__estimator__min_samples_leaf=2, clf__estimator__min_samples_split=4, clf__estimator__n_estimators=100 \n",
      "[CV]  clf__estimator__max_depth=10, clf__estimator__min_samples_leaf=2, clf__estimator__min_samples_split=2, clf__estimator__n_estimators=100, score=0.3775091654869505, total= 1.2min\n",
      "[CV] clf__estimator__max_depth=10, clf__estimator__min_samples_leaf=2, clf__estimator__min_samples_split=4, clf__estimator__n_estimators=100 \n",
      "[CV]  clf__estimator__max_depth=10, clf__estimator__min_samples_leaf=2, clf__estimator__min_samples_split=4, clf__estimator__n_estimators=50, score=0.37830198934666814, total=  53.1s\n",
      "[CV] clf__estimator__max_depth=10, clf__estimator__min_samples_leaf=4, clf__estimator__min_samples_split=2, clf__estimator__n_estimators=50 \n",
      "[CV]  clf__estimator__max_depth=10, clf__estimator__min_samples_leaf=2, clf__estimator__min_samples_split=4, clf__estimator__n_estimators=50, score=0.3785900783289817, total=  52.3s\n",
      "[CV] clf__estimator__max_depth=10, clf__estimator__min_samples_leaf=4, clf__estimator__min_samples_split=2, clf__estimator__n_estimators=50 \n",
      "[CV]  clf__estimator__max_depth=10, clf__estimator__min_samples_leaf=4, clf__estimator__min_samples_split=2, clf__estimator__n_estimators=50, score=0.3870215092963908, total=  50.7s\n",
      "[CV] clf__estimator__max_depth=10, clf__estimator__min_samples_leaf=4, clf__estimator__min_samples_split=2, clf__estimator__n_estimators=50 \n",
      "[CV]  clf__estimator__max_depth=10, clf__estimator__min_samples_leaf=2, clf__estimator__min_samples_split=4, clf__estimator__n_estimators=100, score=0.38512945988386954, total= 1.2min\n",
      "[CV] clf__estimator__max_depth=10, clf__estimator__min_samples_leaf=4, clf__estimator__min_samples_split=2, clf__estimator__n_estimators=100 \n",
      "[CV]  clf__estimator__max_depth=10, clf__estimator__min_samples_leaf=2, clf__estimator__min_samples_split=4, clf__estimator__n_estimators=100, score=0.3830648074561086, total= 1.2min\n",
      "[CV] clf__estimator__max_depth=10, clf__estimator__min_samples_leaf=4, clf__estimator__min_samples_split=2, clf__estimator__n_estimators=100 \n",
      "[CV]  clf__estimator__max_depth=10, clf__estimator__min_samples_leaf=2, clf__estimator__min_samples_split=4, clf__estimator__n_estimators=100, score=0.3761671207992734, total= 1.2min\n",
      "[CV] clf__estimator__max_depth=10, clf__estimator__min_samples_leaf=4, clf__estimator__min_samples_split=2, clf__estimator__n_estimators=100 \n",
      "[CV]  clf__estimator__max_depth=10, clf__estimator__min_samples_leaf=4, clf__estimator__min_samples_split=2, clf__estimator__n_estimators=50, score=0.3752451514491174, total=  51.9s\n",
      "[CV] clf__estimator__max_depth=10, clf__estimator__min_samples_leaf=4, clf__estimator__min_samples_split=4, clf__estimator__n_estimators=50 \n",
      "[CV]  clf__estimator__max_depth=10, clf__estimator__min_samples_leaf=4, clf__estimator__min_samples_split=2, clf__estimator__n_estimators=50, score=0.375277222323214, total=  53.4s\n",
      "[CV] clf__estimator__max_depth=10, clf__estimator__min_samples_leaf=4, clf__estimator__min_samples_split=4, clf__estimator__n_estimators=50 \n",
      "[CV]  clf__estimator__max_depth=10, clf__estimator__min_samples_leaf=4, clf__estimator__min_samples_split=2, clf__estimator__n_estimators=100, score=0.37969734269784955, total= 1.2min\n",
      "[CV] clf__estimator__max_depth=10, clf__estimator__min_samples_leaf=4, clf__estimator__min_samples_split=4, clf__estimator__n_estimators=50 \n",
      "[CV]  clf__estimator__max_depth=10, clf__estimator__min_samples_leaf=4, clf__estimator__min_samples_split=2, clf__estimator__n_estimators=100, score=0.3847024874894984, total= 1.2min\n",
      "[CV] clf__estimator__max_depth=10, clf__estimator__min_samples_leaf=4, clf__estimator__min_samples_split=4, clf__estimator__n_estimators=100 \n",
      "[CV]  clf__estimator__max_depth=10, clf__estimator__min_samples_leaf=4, clf__estimator__min_samples_split=2, clf__estimator__n_estimators=100, score=0.37556807853117613, total= 1.2min\n",
      "[CV] clf__estimator__max_depth=10, clf__estimator__min_samples_leaf=4, clf__estimator__min_samples_split=4, clf__estimator__n_estimators=100 \n",
      "[CV]  clf__estimator__max_depth=10, clf__estimator__min_samples_leaf=4, clf__estimator__min_samples_split=4, clf__estimator__n_estimators=50, score=0.3877692335726521, total=  53.5s\n",
      "[CV] clf__estimator__max_depth=10, clf__estimator__min_samples_leaf=4, clf__estimator__min_samples_split=4, clf__estimator__n_estimators=100 \n",
      "[CV]  clf__estimator__max_depth=10, clf__estimator__min_samples_leaf=4, clf__estimator__min_samples_split=4, clf__estimator__n_estimators=50, score=0.3815204424682789, total=  53.2s\n",
      "[CV] clf__estimator__max_depth=20, clf__estimator__min_samples_leaf=1, clf__estimator__min_samples_split=2, clf__estimator__n_estimators=50 \n",
      "[CV]  clf__estimator__max_depth=10, clf__estimator__min_samples_leaf=4, clf__estimator__min_samples_split=4, clf__estimator__n_estimators=50, score=0.3778801843317972, total=  53.2s\n",
      "[CV] clf__estimator__max_depth=20, clf__estimator__min_samples_leaf=1, clf__estimator__min_samples_split=2, clf__estimator__n_estimators=50 \n",
      "[CV]  clf__estimator__max_depth=10, clf__estimator__min_samples_leaf=4, clf__estimator__min_samples_split=4, clf__estimator__n_estimators=100, score=0.38728260473256276, total= 1.2min\n",
      "[CV] clf__estimator__max_depth=20, clf__estimator__min_samples_leaf=1, clf__estimator__min_samples_split=2, clf__estimator__n_estimators=50 \n",
      "[CV]  clf__estimator__max_depth=10, clf__estimator__min_samples_leaf=4, clf__estimator__min_samples_split=4, clf__estimator__n_estimators=100, score=0.3831846581675033, total= 1.2min\n",
      "[CV] clf__estimator__max_depth=20, clf__estimator__min_samples_leaf=1, clf__estimator__min_samples_split=2, clf__estimator__n_estimators=100 \n",
      "[CV]  clf__estimator__max_depth=10, clf__estimator__min_samples_leaf=4, clf__estimator__min_samples_split=4, clf__estimator__n_estimators=100, score=0.37556807853117613, total= 1.2min\n",
      "[CV] clf__estimator__max_depth=20, clf__estimator__min_samples_leaf=1, clf__estimator__min_samples_split=2, clf__estimator__n_estimators=100 \n",
      "[CV]  clf__estimator__max_depth=20, clf__estimator__min_samples_leaf=1, clf__estimator__min_samples_split=2, clf__estimator__n_estimators=50, score=0.4299791615159114, total= 1.2min\n",
      "[CV] clf__estimator__max_depth=20, clf__estimator__min_samples_leaf=1, clf__estimator__min_samples_split=2, clf__estimator__n_estimators=100 \n",
      "[CV]  clf__estimator__max_depth=20, clf__estimator__min_samples_leaf=1, clf__estimator__min_samples_split=2, clf__estimator__n_estimators=50, score=0.42535901926444836, total= 1.2min\n",
      "[CV] clf__estimator__max_depth=20, clf__estimator__min_samples_leaf=1, clf__estimator__min_samples_split=4, clf__estimator__n_estimators=50 \n",
      "[CV]  clf__estimator__max_depth=20, clf__estimator__min_samples_leaf=1, clf__estimator__min_samples_split=2, clf__estimator__n_estimators=50, score=0.42307286723610676, total= 1.2min\n",
      "[CV] clf__estimator__max_depth=20, clf__estimator__min_samples_leaf=1, clf__estimator__min_samples_split=4, clf__estimator__n_estimators=50 \n",
      "[CV]  clf__estimator__max_depth=20, clf__estimator__min_samples_leaf=1, clf__estimator__min_samples_split=2, clf__estimator__n_estimators=100, score=0.42851583230143286, total= 1.8min\n",
      "[CV] clf__estimator__max_depth=20, clf__estimator__min_samples_leaf=1, clf__estimator__min_samples_split=4, clf__estimator__n_estimators=50 \n",
      "[CV]  clf__estimator__max_depth=20, clf__estimator__min_samples_leaf=1, clf__estimator__min_samples_split=2, clf__estimator__n_estimators=100, score=0.4247626388256315, total= 1.8min\n",
      "[CV] clf__estimator__max_depth=20, clf__estimator__min_samples_leaf=1, clf__estimator__min_samples_split=4, clf__estimator__n_estimators=100 \n",
      "[CV]  clf__estimator__max_depth=20, clf__estimator__min_samples_leaf=1, clf__estimator__min_samples_split=4, clf__estimator__n_estimators=50, score=0.4292779426310584, total= 1.1min\n",
      "[CV] clf__estimator__max_depth=20, clf__estimator__min_samples_leaf=1, clf__estimator__min_samples_split=4, clf__estimator__n_estimators=100 \n",
      "[CV]  clf__estimator__max_depth=20, clf__estimator__min_samples_leaf=1, clf__estimator__min_samples_split=2, clf__estimator__n_estimators=100, score=0.4244083982866372, total= 1.9min\n",
      "[CV] clf__estimator__max_depth=20, clf__estimator__min_samples_leaf=1, clf__estimator__min_samples_split=4, clf__estimator__n_estimators=100 \n",
      "[CV]  clf__estimator__max_depth=20, clf__estimator__min_samples_leaf=1, clf__estimator__min_samples_split=4, clf__estimator__n_estimators=50, score=0.42843164663125527, total= 1.2min\n",
      "[CV] clf__estimator__max_depth=20, clf__estimator__min_samples_leaf=2, clf__estimator__min_samples_split=2, clf__estimator__n_estimators=50 \n",
      "[CV]  clf__estimator__max_depth=20, clf__estimator__min_samples_leaf=1, clf__estimator__min_samples_split=4, clf__estimator__n_estimators=50, score=0.43136844309496386, total= 1.1min\n",
      "[CV] clf__estimator__max_depth=20, clf__estimator__min_samples_leaf=2, clf__estimator__min_samples_split=2, clf__estimator__n_estimators=50 \n",
      "[CV]  clf__estimator__max_depth=20, clf__estimator__min_samples_leaf=2, clf__estimator__min_samples_split=2, clf__estimator__n_estimators=50, score=0.42642940696891285, total= 1.1min\n",
      "[CV] clf__estimator__max_depth=20, clf__estimator__min_samples_leaf=2, clf__estimator__min_samples_split=2, clf__estimator__n_estimators=50 \n",
      "[CV]  clf__estimator__max_depth=20, clf__estimator__min_samples_leaf=1, clf__estimator__min_samples_split=4, clf__estimator__n_estimators=100, score=0.4284197862854716, total= 1.7min\n",
      "[CV] clf__estimator__max_depth=20, clf__estimator__min_samples_leaf=2, clf__estimator__min_samples_split=2, clf__estimator__n_estimators=100 \n",
      "[CV]  clf__estimator__max_depth=20, clf__estimator__min_samples_leaf=1, clf__estimator__min_samples_split=4, clf__estimator__n_estimators=100, score=0.4207604188628856, total= 1.7min\n",
      "[CV] clf__estimator__max_depth=20, clf__estimator__min_samples_leaf=2, clf__estimator__min_samples_split=2, clf__estimator__n_estimators=100 \n",
      "[CV]  clf__estimator__max_depth=20, clf__estimator__min_samples_leaf=1, clf__estimator__min_samples_split=4, clf__estimator__n_estimators=100, score=0.4258363139070061, total= 1.7min\n",
      "[CV] clf__estimator__max_depth=20, clf__estimator__min_samples_leaf=2, clf__estimator__min_samples_split=2, clf__estimator__n_estimators=100 \n",
      "[CV]  clf__estimator__max_depth=20, clf__estimator__min_samples_leaf=2, clf__estimator__min_samples_split=2, clf__estimator__n_estimators=50, score=0.41690140845070417, total= 1.1min\n",
      "[CV] clf__estimator__max_depth=20, clf__estimator__min_samples_leaf=2, clf__estimator__min_samples_split=4, clf__estimator__n_estimators=50 \n",
      "[CV]  clf__estimator__max_depth=20, clf__estimator__min_samples_leaf=2, clf__estimator__min_samples_split=2, clf__estimator__n_estimators=50, score=0.4194877937083877, total= 1.1min\n",
      "[CV] clf__estimator__max_depth=20, clf__estimator__min_samples_leaf=2, clf__estimator__min_samples_split=4, clf__estimator__n_estimators=50 \n",
      "[CV]  clf__estimator__max_depth=20, clf__estimator__min_samples_leaf=2, clf__estimator__min_samples_split=2, clf__estimator__n_estimators=100, score=0.42208623879322615, total= 1.6min\n",
      "[CV] clf__estimator__max_depth=20, clf__estimator__min_samples_leaf=2, clf__estimator__min_samples_split=4, clf__estimator__n_estimators=50 \n",
      "[CV]  clf__estimator__max_depth=20, clf__estimator__min_samples_leaf=2, clf__estimator__min_samples_split=4, clf__estimator__n_estimators=50, score=0.42581833640357086, total= 1.0min\n",
      "[CV] clf__estimator__max_depth=20, clf__estimator__min_samples_leaf=2, clf__estimator__min_samples_split=4, clf__estimator__n_estimators=100 \n",
      "[CV]  clf__estimator__max_depth=20, clf__estimator__min_samples_leaf=2, clf__estimator__min_samples_split=2, clf__estimator__n_estimators=100, score=0.41983819908547315, total= 1.6min\n",
      "[CV] clf__estimator__max_depth=20, clf__estimator__min_samples_leaf=2, clf__estimator__min_samples_split=4, clf__estimator__n_estimators=100 \n",
      "[CV]  clf__estimator__max_depth=20, clf__estimator__min_samples_leaf=2, clf__estimator__min_samples_split=2, clf__estimator__n_estimators=100, score=0.416969611407193, total= 1.6min\n",
      "[CV] clf__estimator__max_depth=20, clf__estimator__min_samples_leaf=2, clf__estimator__min_samples_split=4, clf__estimator__n_estimators=100 \n",
      "[CV]  clf__estimator__max_depth=20, clf__estimator__min_samples_leaf=2, clf__estimator__min_samples_split=4, clf__estimator__n_estimators=50, score=0.41724793912492064, total= 1.1min\n",
      "[CV] clf__estimator__max_depth=20, clf__estimator__min_samples_leaf=4, clf__estimator__min_samples_split=2, clf__estimator__n_estimators=50 \n",
      "[CV]  clf__estimator__max_depth=20, clf__estimator__min_samples_leaf=2, clf__estimator__min_samples_split=4, clf__estimator__n_estimators=50, score=0.42080810924961287, total= 1.0min\n",
      "[CV] clf__estimator__max_depth=20, clf__estimator__min_samples_leaf=4, clf__estimator__min_samples_split=2, clf__estimator__n_estimators=50 \n",
      "[CV]  clf__estimator__max_depth=20, clf__estimator__min_samples_leaf=2, clf__estimator__min_samples_split=4, clf__estimator__n_estimators=100, score=0.42169317817871255, total= 1.6min\n",
      "[CV] clf__estimator__max_depth=20, clf__estimator__min_samples_leaf=4, clf__estimator__min_samples_split=2, clf__estimator__n_estimators=50 \n",
      "[CV]  clf__estimator__max_depth=20, clf__estimator__min_samples_leaf=4, clf__estimator__min_samples_split=2, clf__estimator__n_estimators=50, score=0.4194214876033058, total= 1.0min\n",
      "[CV] clf__estimator__max_depth=20, clf__estimator__min_samples_leaf=4, clf__estimator__min_samples_split=2, clf__estimator__n_estimators=100 \n",
      "[CV]  clf__estimator__max_depth=20, clf__estimator__min_samples_leaf=2, clf__estimator__min_samples_split=4, clf__estimator__n_estimators=100, score=0.4170629469160591, total= 1.5min\n",
      "[CV] clf__estimator__max_depth=20, clf__estimator__min_samples_leaf=4, clf__estimator__min_samples_split=2, clf__estimator__n_estimators=100 \n",
      "[CV]  clf__estimator__max_depth=20, clf__estimator__min_samples_leaf=2, clf__estimator__min_samples_split=4, clf__estimator__n_estimators=100, score=0.4195060075402558, total= 1.5min\n",
      "[CV] clf__estimator__max_depth=20, clf__estimator__min_samples_leaf=4, clf__estimator__min_samples_split=2, clf__estimator__n_estimators=100 \n",
      "[CV]  clf__estimator__max_depth=20, clf__estimator__min_samples_leaf=4, clf__estimator__min_samples_split=2, clf__estimator__n_estimators=50, score=0.4156796390298928, total= 1.0min\n",
      "[CV] clf__estimator__max_depth=20, clf__estimator__min_samples_leaf=4, clf__estimator__min_samples_split=4, clf__estimator__n_estimators=50 \n"
     ]
    },
    {
     "name": "stderr",
     "output_type": "stream",
     "text": [
      "[Parallel(n_jobs=5)]: Done  62 tasks      | elapsed: 21.2min\n"
     ]
    },
    {
     "name": "stdout",
     "output_type": "stream",
     "text": [
      "[CV]  clf__estimator__max_depth=20, clf__estimator__min_samples_leaf=4, clf__estimator__min_samples_split=2, clf__estimator__n_estimators=50, score=0.4182946611185557, total= 1.0min\n",
      "[CV] clf__estimator__max_depth=20, clf__estimator__min_samples_leaf=4, clf__estimator__min_samples_split=4, clf__estimator__n_estimators=50 \n",
      "[CV]  clf__estimator__max_depth=20, clf__estimator__min_samples_leaf=4, clf__estimator__min_samples_split=2, clf__estimator__n_estimators=100, score=0.4163817714023896, total= 1.5min\n",
      "[CV] clf__estimator__max_depth=20, clf__estimator__min_samples_leaf=4, clf__estimator__min_samples_split=4, clf__estimator__n_estimators=50 \n",
      "[CV]  clf__estimator__max_depth=20, clf__estimator__min_samples_leaf=4, clf__estimator__min_samples_split=2, clf__estimator__n_estimators=100, score=0.4216927453769559, total= 1.5min\n",
      "[CV] clf__estimator__max_depth=20, clf__estimator__min_samples_leaf=4, clf__estimator__min_samples_split=4, clf__estimator__n_estimators=100 \n",
      "[CV]  clf__estimator__max_depth=20, clf__estimator__min_samples_leaf=4, clf__estimator__min_samples_split=4, clf__estimator__n_estimators=50, score=0.42232009661149394, total= 1.0min\n",
      "[CV] clf__estimator__max_depth=20, clf__estimator__min_samples_leaf=4, clf__estimator__min_samples_split=4, clf__estimator__n_estimators=100 \n",
      "[CV]  clf__estimator__max_depth=20, clf__estimator__min_samples_leaf=4, clf__estimator__min_samples_split=2, clf__estimator__n_estimators=100, score=0.41245660029759795, total= 1.5min\n",
      "[CV] clf__estimator__max_depth=20, clf__estimator__min_samples_leaf=4, clf__estimator__min_samples_split=4, clf__estimator__n_estimators=100 \n",
      "[CV]  clf__estimator__max_depth=20, clf__estimator__min_samples_leaf=4, clf__estimator__min_samples_split=4, clf__estimator__n_estimators=50, score=0.41527008432417173, total= 1.0min\n",
      "[CV]  clf__estimator__max_depth=20, clf__estimator__min_samples_leaf=4, clf__estimator__min_samples_split=4, clf__estimator__n_estimators=50, score=0.417870481290959, total=  58.6s\n",
      "[CV]  clf__estimator__max_depth=20, clf__estimator__min_samples_leaf=4, clf__estimator__min_samples_split=4, clf__estimator__n_estimators=100, score=0.4216666073905467, total= 1.3min\n",
      "[CV]  clf__estimator__max_depth=20, clf__estimator__min_samples_leaf=4, clf__estimator__min_samples_split=4, clf__estimator__n_estimators=100, score=0.4126792987426952, total= 1.3min\n",
      "[CV]  clf__estimator__max_depth=20, clf__estimator__min_samples_leaf=4, clf__estimator__min_samples_split=4, clf__estimator__n_estimators=100, score=0.4163817714023896, total= 1.3min\n"
     ]
    },
    {
     "name": "stderr",
     "output_type": "stream",
     "text": [
      "[Parallel(n_jobs=5)]: Done  72 out of  72 | elapsed: 24.4min finished\n"
     ]
    }
   ],
   "source": [
    "    parameters = {\n",
    "        'clf__estimator__max_depth': [10, 20],\n",
    "        'clf__estimator__min_samples_leaf': [1, 2, 4],\n",
    "        'clf__estimator__n_estimators': [50, 100],\n",
    "        'clf__estimator__min_samples_split': [2, 4]\n",
    "    }\n",
    "\n",
    "cv = GridSearchCV(pipeline, param_grid = parameters, scoring='f1_micro', verbose = 5, n_jobs=5)\n",
    "\n",
    "grid_fit = cv.fit(X_train, Y_train)"
   ]
  },
  {
   "cell_type": "markdown",
   "metadata": {},
   "source": [
    "### 7. Test your model\n",
    "Show the accuracy, precision, and recall of the tuned model.  \n",
    "\n",
    "Since this project focuses on code quality, process, and  pipelines, there is no minimum performance metric needed to pass. However, make sure to fine tune your models for accuracy, precision and recall to make your project stand out - especially for your portfolio!"
   ]
  },
  {
   "cell_type": "code",
   "execution_count": 8,
   "metadata": {},
   "outputs": [
    {
     "name": "stdout",
     "output_type": "stream",
     "text": [
      "best f-score achieved:0.4296926774524259\n",
      "best parameters:{'clf__estimator__max_depth': 20, 'clf__estimator__min_samples_leaf': 1, 'clf__estimator__min_samples_split': 4, 'clf__estimator__n_estimators': 50}\n"
     ]
    }
   ],
   "source": [
    "print('best f-score achieved:{}'.format(grid_fit.best_score_))\n",
    "print('best parameters:{}'.format(grid_fit.best_params_))\n",
    "\n"
   ]
  },
  {
   "cell_type": "code",
   "execution_count": 9,
   "metadata": {},
   "outputs": [
    {
     "data": {
      "text/plain": [
       "GridSearchCV(cv=None, error_score='raise',\n",
       "       estimator=Pipeline(memory=None,\n",
       "     steps=[('vect', CountVectorizer(analyzer='word', binary=False, decode_error='strict',\n",
       "        dtype=<class 'numpy.int64'>, encoding='utf-8', input='content',\n",
       "        lowercase=True, max_df=1.0, max_features=None, min_df=1,\n",
       "        ngram_range=(1, 1), preprocessor=None, stop_words=None,\n",
       "        strip...oob_score=False, random_state=None, verbose=0,\n",
       "            warm_start=False),\n",
       "           n_jobs=1))]),\n",
       "       fit_params=None, iid=True, n_jobs=5,\n",
       "       param_grid={'clf__estimator__max_depth': [10, 20], 'clf__estimator__min_samples_leaf': [1, 2, 4], 'clf__estimator__n_estimators': [50, 100], 'clf__estimator__min_samples_split': [2, 4]},\n",
       "       pre_dispatch='2*n_jobs', refit=True, return_train_score='warn',\n",
       "       scoring='f1_micro', verbose=5)"
      ]
     },
     "execution_count": 9,
     "metadata": {},
     "output_type": "execute_result"
    }
   ],
   "source": [
    "grid_fit"
   ]
  },
  {
   "cell_type": "code",
   "execution_count": 10,
   "metadata": {},
   "outputs": [
    {
     "name": "stdout",
     "output_type": "stream",
     "text": [
      "                        precision    recall  f1-score   support\n",
      "\n",
      "               related       0.76      1.00      0.87      4963\n",
      "               request       1.00      0.01      0.03      1092\n",
      "                 offer       0.00      0.00      0.00        27\n",
      "           aid_related       0.89      0.29      0.44      2724\n",
      "          medical_help       0.00      0.00      0.00       564\n",
      "      medical_products       0.00      0.00      0.00       344\n",
      "     search_and_rescue       0.00      0.00      0.00       185\n",
      "              security       0.00      0.00      0.00       127\n",
      "              military       0.00      0.00      0.00       229\n",
      "                 water       1.00      0.00      0.00       411\n",
      "                  food       0.00      0.00      0.00       734\n",
      "               shelter       1.00      0.01      0.01       554\n",
      "              clothing       0.00      0.00      0.00        97\n",
      "                 money       0.00      0.00      0.00       148\n",
      "        missing_people       0.00      0.00      0.00        84\n",
      "              refugees       0.00      0.00      0.00       213\n",
      "                 death       1.00      0.00      0.01       296\n",
      "             other_aid       0.00      0.00      0.00       850\n",
      "infrastructure_related       0.00      0.00      0.00       400\n",
      "             transport       0.00      0.00      0.00       327\n",
      "             buildings       1.00      0.00      0.01       321\n",
      "           electricity       0.00      0.00      0.00       133\n",
      "                 tools       0.00      0.00      0.00        43\n",
      "             hospitals       0.00      0.00      0.00        61\n",
      "                 shops       0.00      0.00      0.00        28\n",
      "           aid_centers       0.00      0.00      0.00        64\n",
      "  other_infrastructure       0.00      0.00      0.00       284\n",
      "       weather_related       0.95      0.08      0.15      1848\n",
      "                floods       1.00      0.01      0.02       560\n",
      "                 storm       1.00      0.01      0.02       609\n",
      "                  fire       0.00      0.00      0.00        63\n",
      "            earthquake       1.00      0.03      0.06       618\n",
      "                  cold       0.00      0.00      0.00       115\n",
      "         other_weather       0.00      0.00      0.00       362\n",
      "         direct_report       1.00      0.01      0.01      1264\n",
      "\n",
      "           avg / total       0.66      0.29      0.28     20742\n",
      "\n"
     ]
    },
    {
     "name": "stderr",
     "output_type": "stream",
     "text": [
      "/opt/conda/lib/python3.6/site-packages/sklearn/metrics/classification.py:1135: UndefinedMetricWarning: Precision and F-score are ill-defined and being set to 0.0 in labels with no predicted samples.\n",
      "  'precision', 'predicted', average, warn_for)\n"
     ]
    }
   ],
   "source": [
    "best_model = grid_fit.best_estimator_\n",
    "Y_pred_tuned = best_model.predict(X_test)\n",
    "print(classification_report(Y_test.values, Y_pred_tuned, target_names=Y.columns.values))\n"
   ]
  },
  {
   "cell_type": "markdown",
   "metadata": {},
   "source": [
    "as it can be seen above, I could not reach high f-score value and that's mainly due to the messages distribution into categories. Some categories have a high number of messages and some don't which will won't allow the model to learn much about the categories."
   ]
  },
  {
   "cell_type": "markdown",
   "metadata": {},
   "source": [
    "### 8. Try improving your model further. Here are a few ideas:\n",
    "* try other machine learning algorithms\n",
    "* add other features besides the TF-IDF"
   ]
  },
  {
   "cell_type": "code",
   "execution_count": null,
   "metadata": {},
   "outputs": [],
   "source": []
  },
  {
   "cell_type": "code",
   "execution_count": null,
   "metadata": {},
   "outputs": [],
   "source": []
  },
  {
   "cell_type": "markdown",
   "metadata": {},
   "source": [
    "### 9. Export your model as a pickle file"
   ]
  },
  {
   "cell_type": "code",
   "execution_count": 14,
   "metadata": {},
   "outputs": [],
   "source": [
    "filename='classifier.pkl'\n",
    "pickle.dump(best_model, open(filename, 'wb'))"
   ]
  },
  {
   "cell_type": "markdown",
   "metadata": {},
   "source": [
    "### 10. Use this notebook to complete `train.py`\n",
    "Use the template file attached in the Resources folder to write a script that runs the steps above to create a database and export a model based on a new dataset specified by the user."
   ]
  },
  {
   "cell_type": "code",
   "execution_count": null,
   "metadata": {},
   "outputs": [],
   "source": []
  }
 ],
 "metadata": {
  "kernelspec": {
   "display_name": "Python 3",
   "language": "python",
   "name": "python3"
  },
  "language_info": {
   "codemirror_mode": {
    "name": "ipython",
    "version": 3
   },
   "file_extension": ".py",
   "mimetype": "text/x-python",
   "name": "python",
   "nbconvert_exporter": "python",
   "pygments_lexer": "ipython3",
   "version": "3.6.3"
  }
 },
 "nbformat": 4,
 "nbformat_minor": 2
}
